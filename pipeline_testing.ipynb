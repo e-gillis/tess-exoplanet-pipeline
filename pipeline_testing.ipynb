{
 "cells": [
  {
   "cell_type": "code",
   "execution_count": 1,
   "id": "c513d5e5-6772-496d-94c3-40057cbeaf75",
   "metadata": {},
   "outputs": [],
   "source": [
    "import pipeline_package as pp\n",
    "from importlib import reload\n",
    "\n",
    "import matplotlib.pyplot as plt\n",
    "import numpy as np"
   ]
  },
  {
   "cell_type": "code",
   "execution_count": 3,
   "id": "6e8ed5a9-7473-4214-b5ca-d27b894729cb",
   "metadata": {},
   "outputs": [],
   "source": [
    "%config InlineBackend.figure_format = 'svg'"
   ]
  },
  {
   "cell_type": "code",
   "execution_count": 4,
   "id": "e8ce6f2b-1537-4cce-be1a-02c216428b76",
   "metadata": {},
   "outputs": [
    {
     "data": {
      "text/plain": [
       "<module 'pipeline_package' from '/Users/gillis/academic/Research/transit_search/pipeline/pipeline_package/__init__.py'>"
      ]
     },
     "execution_count": 4,
     "metadata": {},
     "output_type": "execute_result"
    }
   ],
   "source": [
    "reload(pp)"
   ]
  },
  {
   "cell_type": "code",
   "execution_count": 5,
   "id": "ad02f3e7-f635-4ed2-a0c4-24b5686d0a15",
   "metadata": {},
   "outputs": [],
   "source": [
    "tic = 98796344"
   ]
  },
  {
   "cell_type": "code",
   "execution_count": null,
   "id": "b386551a-a2e5-441d-8ec8-b8c6c5c4472d",
   "metadata": {
    "tags": []
   },
   "outputs": [],
   "source": [
    "# lc = pp.TIC_LightCurve(tic)\n",
    "ts = pp.TransitSearch(tic)"
   ]
  },
  {
   "cell_type": "code",
   "execution_count": null,
   "id": "30867f37-9b8a-4586-a8f6-efd20b05653b",
   "metadata": {},
   "outputs": [],
   "source": [
    "ts.transit_search()"
   ]
  },
  {
   "cell_type": "code",
   "execution_count": null,
   "id": "43d9d64e-6797-44d2-9dc8-76c58273dfc0",
   "metadata": {},
   "outputs": [],
   "source": [
    "for result in ts.results[1]:\n",
    "    pp.plot_result(result)"
   ]
  }
 ],
 "metadata": {
  "kernelspec": {
   "display_name": "Python 3 (ipykernel)",
   "language": "python",
   "name": "python3"
  },
  "language_info": {
   "codemirror_mode": {
    "name": "ipython",
    "version": 3
   },
   "file_extension": ".py",
   "mimetype": "text/x-python",
   "name": "python",
   "nbconvert_exporter": "python",
   "pygments_lexer": "ipython3",
   "version": "3.10.7"
  }
 },
 "nbformat": 4,
 "nbformat_minor": 5
}
